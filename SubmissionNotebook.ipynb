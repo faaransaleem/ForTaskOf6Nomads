{
 "cells": [
  {
   "cell_type": "markdown",
   "metadata": {},
   "source": [
    "# This is a MultiClass Classification Problem"
   ]
  },
  {
   "cell_type": "markdown",
   "metadata": {},
   "source": [
    "We are given a dataset of 65 features (1 categorical & 64 continuous) and 1 target variable having 4 classes which makes it a multiclass classification problem."
   ]
  },
  {
   "cell_type": "markdown",
   "metadata": {},
   "source": [
    "Let us begin by importing important libraries"
   ]
  },
  {
   "cell_type": "code",
   "execution_count": 17,
   "metadata": {},
   "outputs": [],
   "source": [
    "import pandas as pd \n",
    "import numpy as np\n",
    "pd.options.display.max_rows = 200\n",
    "%matplotlib inline\n",
    "import matplotlib\n",
    "import numpy as np\n",
    "import matplotlib.pyplot as plt\n",
    "import warnings\n",
    "warnings.filterwarnings('ignore')"
   ]
  },
  {
   "cell_type": "code",
   "execution_count": 18,
   "metadata": {},
   "outputs": [],
   "source": [
    "train = pd.read_csv(\"train.csv\", header= None) #import training data\n",
    "test = pd.read_csv(\"test.csv\", header= None) #import test data\n",
    "test.fillna(0, inplace=True) #filling any missing value with 0 in test dataset"
   ]
  },
  {
   "cell_type": "markdown",
   "metadata": {},
   "source": [
    "# Visualizing & Processing Data"
   ]
  },
  {
   "cell_type": "code",
   "execution_count": 19,
   "metadata": {},
   "outputs": [
    {
     "data": {
      "text/plain": [
       "0     0\n",
       "1     0\n",
       "2     0\n",
       "3     0\n",
       "4     0\n",
       "5     0\n",
       "6     0\n",
       "7     0\n",
       "8     0\n",
       "9     0\n",
       "10    0\n",
       "11    0\n",
       "12    0\n",
       "13    0\n",
       "14    0\n",
       "15    0\n",
       "16    0\n",
       "17    0\n",
       "18    0\n",
       "19    0\n",
       "20    0\n",
       "21    0\n",
       "22    0\n",
       "23    0\n",
       "24    0\n",
       "25    0\n",
       "26    0\n",
       "27    0\n",
       "28    0\n",
       "29    0\n",
       "30    0\n",
       "31    0\n",
       "32    0\n",
       "33    0\n",
       "34    0\n",
       "35    0\n",
       "36    0\n",
       "37    0\n",
       "38    0\n",
       "39    0\n",
       "40    0\n",
       "41    0\n",
       "42    0\n",
       "43    0\n",
       "44    0\n",
       "45    0\n",
       "46    0\n",
       "47    0\n",
       "48    0\n",
       "49    0\n",
       "50    0\n",
       "51    0\n",
       "52    0\n",
       "53    0\n",
       "54    0\n",
       "55    0\n",
       "56    0\n",
       "57    0\n",
       "58    0\n",
       "59    0\n",
       "60    0\n",
       "61    0\n",
       "62    0\n",
       "63    0\n",
       "64    0\n",
       "65    0\n",
       "dtype: int64"
      ]
     },
     "execution_count": 19,
     "metadata": {},
     "output_type": "execute_result"
    }
   ],
   "source": [
    "train.isnull().sum() # No missing values"
   ]
  },
  {
   "cell_type": "code",
   "execution_count": 20,
   "metadata": {},
   "outputs": [],
   "source": [
    "traindata= train.copy()\n",
    "testdata = test.copy()\n",
    "traindata.drop(traindata.columns[[65]], axis = 1, inplace = True) #dropping target variable\n",
    "testdata.drop(testdata.columns[[65]], axis = 1, inplace = True) #dropping target variable"
   ]
  },
  {
   "cell_type": "markdown",
   "metadata": {},
   "source": [
    "Let's check for the variance within each feature to reduce dimensions. The feature which has lower variance compared to other features will be dropped. As they are not varying much, they are of little or no use for our model"
   ]
  },
  {
   "cell_type": "code",
   "execution_count": 21,
   "metadata": {},
   "outputs": [],
   "source": [
    "#add var show not much to reduce"
   ]
  },
  {
   "cell_type": "markdown",
   "metadata": {},
   "source": [
    "Now let us check for the correlations between the features. If features are correlated, we will keep one of those as they have a similiar effect. In this way we will reduce our dimensions."
   ]
  },
  {
   "cell_type": "code",
   "execution_count": 22,
   "metadata": {},
   "outputs": [
    {
     "name": "stdout",
     "output_type": "stream",
     "text": [
      "Int64Index([], dtype='int64')\n",
      "Int64Index([], dtype='int64')\n",
      "Int64Index([3], dtype='int64')\n",
      "Int64Index([2], dtype='int64')\n",
      "Int64Index([5], dtype='int64')\n",
      "Int64Index([4], dtype='int64')\n",
      "Int64Index([], dtype='int64')\n",
      "Int64Index([], dtype='int64')\n",
      "Int64Index([], dtype='int64')\n",
      "Int64Index([], dtype='int64')\n",
      "Int64Index([11], dtype='int64')\n",
      "Int64Index([10], dtype='int64')\n",
      "Int64Index([], dtype='int64')\n",
      "Int64Index([], dtype='int64')\n",
      "Int64Index([], dtype='int64')\n",
      "Int64Index([], dtype='int64')\n",
      "Int64Index([], dtype='int64')\n",
      "Int64Index([], dtype='int64')\n",
      "Int64Index([19], dtype='int64')\n",
      "Int64Index([18], dtype='int64')\n",
      "Int64Index([21], dtype='int64')\n",
      "Int64Index([20], dtype='int64')\n",
      "Int64Index([], dtype='int64')\n",
      "Int64Index([], dtype='int64')\n",
      "Int64Index([], dtype='int64')\n",
      "Int64Index([], dtype='int64')\n",
      "Int64Index([], dtype='int64')\n",
      "Int64Index([], dtype='int64')\n",
      "Int64Index([29], dtype='int64')\n",
      "Int64Index([28], dtype='int64')\n",
      "Int64Index([], dtype='int64')\n",
      "Int64Index([], dtype='int64')\n",
      "Int64Index([], dtype='int64')\n",
      "Int64Index([], dtype='int64')\n",
      "Int64Index([35], dtype='int64')\n",
      "Int64Index([34], dtype='int64')\n",
      "Int64Index([], dtype='int64')\n",
      "Int64Index([], dtype='int64')\n",
      "Int64Index([], dtype='int64')\n",
      "Int64Index([], dtype='int64')\n",
      "Int64Index([], dtype='int64')\n",
      "Int64Index([], dtype='int64')\n",
      "Int64Index([], dtype='int64')\n",
      "Int64Index([], dtype='int64')\n",
      "Int64Index([45], dtype='int64')\n",
      "Int64Index([44], dtype='int64')\n",
      "Int64Index([], dtype='int64')\n",
      "Int64Index([], dtype='int64')\n",
      "Int64Index([], dtype='int64')\n",
      "Int64Index([], dtype='int64')\n",
      "Int64Index([], dtype='int64')\n",
      "Int64Index([], dtype='int64')\n",
      "Int64Index([], dtype='int64')\n",
      "Int64Index([], dtype='int64')\n",
      "Int64Index([], dtype='int64')\n",
      "Int64Index([], dtype='int64')\n",
      "Int64Index([], dtype='int64')\n",
      "Int64Index([], dtype='int64')\n",
      "Int64Index([59], dtype='int64')\n",
      "Int64Index([58], dtype='int64')\n",
      "Int64Index([61], dtype='int64')\n",
      "Int64Index([60], dtype='int64')\n",
      "Int64Index([], dtype='int64')\n",
      "Int64Index([], dtype='int64')\n"
     ]
    }
   ],
   "source": [
    "Corr = traindata.corr() #correlation between variables\n",
    "for i in range(len(Corr.columns)):\n",
    "    print(Corr[(Corr[i]>0.5) & (Corr[i]<1.0)].index) \n",
    "        # returns index having correlation greater than 5\n",
    "        # Col 2 & 3, Col 4 & 5, Col 11 & 10, Col 19 & 18, Col 21 & 20, Col 29 & 28\n",
    "        # Col 35 & 34, Col 45 & 44, Col 59 & 58,  Col 61 & 60 are correlated. Drop one of them\n",
    "\n",
    "traindata.drop(traindata.columns[[2,4,11,19,21,29,35,45,59,61]], axis = 1, inplace = True)  \n",
    "testdata.drop(testdata.columns[[2,4,11,19,21,29,35,45,59,61]], axis = 1, inplace = True)"
   ]
  },
  {
   "cell_type": "markdown",
   "metadata": {},
   "source": [
    "We will now convert a categorical variable which is the column 64 into one hot encoding for our machine learning libraries to process"
   ]
  },
  {
   "cell_type": "code",
   "execution_count": 23,
   "metadata": {},
   "outputs": [],
   "source": [
    "from sklearn.preprocessing import OneHotEncoder\n",
    "from sklearn.preprocessing import LabelEncoder\n",
    "number = LabelEncoder()\n",
    "data=traindata.copy()\n",
    "#FOR TRAIN DATA\n",
    "integer_encoded = number.fit_transform(data[64])\n",
    "onehot_encoder = OneHotEncoder(sparse=False)\n",
    "integer_encoded = integer_encoded.reshape(len(integer_encoded), 1)\n",
    "onehot_encoded = onehot_encoder.fit_transform(integer_encoded)\n",
    "for x in range(0,np.shape(onehot_encoded)[1]):\n",
    "    data['64'+str(x)]= onehot_encoded[:,x]"
   ]
  },
  {
   "cell_type": "markdown",
   "metadata": {},
   "source": [
    "Now that variables are ready to be processed by scikit library, we will use RandomForestRegressor to extract important features from our dataset."
   ]
  },
  {
   "cell_type": "code",
   "execution_count": 24,
   "metadata": {},
   "outputs": [
    {
     "data": {
      "image/png": "[encoded data removed]",
      "text/plain": [
       "<Figure size 432x288 with 1 Axes>"
      ]
     },
     "metadata": {
      "needs_background": "light"
     },
     "output_type": "display_data"
    }
   ],
   "source": [
    "from sklearn.ensemble import RandomForestRegressor\n",
    "model = RandomForestRegressor(random_state=1, max_depth=100)\n",
    "data.drop(data[[64]],axis=1, inplace = True)  \n",
    "df=pd.get_dummies(data)\n",
    "model.fit(df,train[[65]])\n",
    "features = df.columns\n",
    "importances = model.feature_importances_\n",
    "indices = np.argsort(importances)[-15:]  # top 10 features\n",
    "plt.title('Feature Importances')\n",
    "plt.barh(range(len(indices)), importances[indices], color='b', align='center')\n",
    "plt.yticks(range(len(indices)), [features[i] for i in indices])\n",
    "plt.xlabel('Relative Importance')\n",
    "plt.show()\n",
    "#It is interesting that it only depends on 64th column feature and also seeing that each value of 64th column\n",
    "#is mapped to a different class. Therefore it brings in a lot of biasness in the data. So we are going to remove it \n",
    "#and check the important features again"
   ]
  },
  {
   "cell_type": "markdown",
   "metadata": {},
   "source": [
    "It is interesting that it only depends on 64th column feature and also seeing that each value of 64th columnis mapped to a different class. Therefore it brings in a lot of biasness in the data. So we are going to remove it and check the important features again"
   ]
  },
  {
   "cell_type": "code",
   "execution_count": 25,
   "metadata": {},
   "outputs": [],
   "source": [
    "traindata.drop(traindata[[64]],axis=1, inplace = True)  \n",
    "testdata.drop(testdata[[64]],axis=1, inplace = True)  "
   ]
  },
  {
   "cell_type": "code",
   "execution_count": 26,
   "metadata": {},
   "outputs": [
    {
     "data": {
      "image/png": "[encoded data removed]",
      "text/plain": [
       "<Figure size 432x288 with 1 Axes>"
      ]
     },
     "metadata": {
      "needs_background": "light"
     },
     "output_type": "display_data"
    }
   ],
   "source": [
    "from sklearn.ensemble import RandomForestRegressor\n",
    "model = RandomForestRegressor(random_state=1, max_depth=100)\n",
    "df=pd.get_dummies(traindata)\n",
    "model.fit(df,train[[65]])\n",
    "features = df.columns\n",
    "importances = model.feature_importances_\n",
    "indices = np.argsort(importances)[-15:]  # top 10 features\n",
    "plt.title('Feature Importances')\n",
    "plt.barh(range(len(indices)), importances[indices], color='b', align='center')\n",
    "plt.yticks(range(len(indices)), [features[i] for i in indices])\n",
    "plt.xlabel('Relative Importance')\n",
    "plt.show()"
   ]
  },
  {
   "cell_type": "markdown",
   "metadata": {},
   "source": [
    "We can clearly see now the top 15 features that are important for our model. Let us use these features and train the model"
   ]
  },
  {
   "cell_type": "markdown",
   "metadata": {},
   "source": [
    "# Fitting into the model"
   ]
  },
  {
   "cell_type": "markdown",
   "metadata": {},
   "source": [
    "I will be using decision tree for the classification and we will try to optimize the accuracy changing the parameters of decision tree function from scikit library"
   ]
  },
  {
   "cell_type": "code",
   "execution_count": 27,
   "metadata": {},
   "outputs": [
    {
     "name": "stdout",
     "output_type": "stream",
     "text": [
      "[[603  11  28  70]\n",
      " [  0 686  40  51]\n",
      " [ 15 156 473 133]\n",
      " [ 24 238  37 435]]\n",
      "              precision    recall  f1-score   support\n",
      "\n",
      "           0       0.94      0.85      0.89       712\n",
      "           1       0.63      0.88      0.73       777\n",
      "           2       0.82      0.61      0.70       777\n",
      "           3       0.63      0.59      0.61       734\n",
      "\n",
      "    accuracy                           0.73      3000\n",
      "   macro avg       0.75      0.73      0.73      3000\n",
      "weighted avg       0.75      0.73      0.73      3000\n",
      "\n"
     ]
    }
   ],
   "source": [
    "from sklearn import tree\n",
    "from sklearn.metrics import classification_report, confusion_matrix  \n",
    "model = tree.DecisionTreeClassifier(criterion='gini', max_depth=7)\n",
    "model.fit(traindata[[62,38,30,54,22,46,6,14,53,37,5,13,41,49,57]],train[[65]])\n",
    "predicted= model.predict(testdata[[62,38,30,54,22,46,6,14,53,37,5,13,41,49,57]])\n",
    "matrix = confusion_matrix(test[[65]], predicted)\n",
    "print(matrix)\n",
    "report = classification_report(test[[65]], predicted)\n",
    "print(report)"
   ]
  },
  {
   "cell_type": "markdown",
   "metadata": {},
   "source": [
    "The confusion matrix shows that the model is classifying better for the 0 class as opposed to the other class. Let us iterate over the max_depth parameter and let's see what we get."
   ]
  },
  {
   "cell_type": "code",
   "execution_count": 28,
   "metadata": {},
   "outputs": [
    {
     "name": "stderr",
     "output_type": "stream",
     "text": [
      "No handles with labels found to put in legend.\n"
     ]
    },
    {
     "data": {
      "image/png": "[encoded data removed]",
      "text/plain": [
       "<Figure size 432x288 with 1 Axes>"
      ]
     },
     "metadata": {
      "needs_background": "light"
     },
     "output_type": "display_data"
    }
   ],
   "source": [
    "from sklearn.metrics import accuracy_score\n",
    "results=accuracy_score(test[[65]], predicted)\n",
    "test_results = []\n",
    "max_depths = np.linspace(1, 32, 32, endpoint=True)\n",
    "for max_depth in max_depths:\n",
    "    model = tree.DecisionTreeClassifier(criterion='gini', max_depth=max_depth)\n",
    "    model.fit(traindata[[62,38,30,54,22,46,6,14,53,37,5,13,41,49,57]],train[[65]])\n",
    "    predicted= model.predict(testdata[[62,38,30,54,22,46,6,14,53,37,5,13,41,49,57]])\n",
    "    test_results.append(accuracy_score(test[[65]], predicted))\n",
    "    \n",
    "import matplotlib as mpl\n",
    "import matplotlib.pyplot as plt\n",
    "from matplotlib.legend_handler import HandlerLine2D\n",
    "%matplotlib inline\n",
    "line2, = plt.plot(max_depths, test_results, 'r')\n",
    "plt.legend(handler_map={line2: HandlerLine2D(numpoints=2)})\n",
    "plt.ylabel('Accuracy')\n",
    "plt.xlabel('Tree depth')\n",
    "plt.show()"
   ]
  },
  {
   "cell_type": "markdown",
   "metadata": {},
   "source": [
    "So max_depth between 25 and 30 would give us a good accurace score. Let's test this and see the confusion matrix"
   ]
  },
  {
   "cell_type": "code",
   "execution_count": 29,
   "metadata": {},
   "outputs": [
    {
     "name": "stdout",
     "output_type": "stream",
     "text": [
      "[[712   0   0   0]\n",
      " [  0 777   0   0]\n",
      " [  0  12 764   1]\n",
      " [  0  13   1 720]]\n",
      "              precision    recall  f1-score   support\n",
      "\n",
      "           0       1.00      1.00      1.00       712\n",
      "           1       0.97      1.00      0.98       777\n",
      "           2       1.00      0.98      0.99       777\n",
      "           3       1.00      0.98      0.99       734\n",
      "\n",
      "    accuracy                           0.99      3000\n",
      "   macro avg       0.99      0.99      0.99      3000\n",
      "weighted avg       0.99      0.99      0.99      3000\n",
      "\n"
     ]
    }
   ],
   "source": [
    "from sklearn import tree\n",
    "from sklearn.metrics import classification_report, confusion_matrix  \n",
    "model = tree.DecisionTreeClassifier(criterion='gini', max_depth=30)\n",
    "model.fit(traindata[[62,38,30,54,22,46,6,14,53,37,5,13,41,49,57]],train[[65]])\n",
    "predicted= model.predict(testdata[[62,38,30,54,22,46,6,14,53,37,5,13,41,49,57]])\n",
    "matrix = confusion_matrix(test[[65]], predicted)\n",
    "print(matrix)\n",
    "report = classification_report(test[[65]], predicted)\n",
    "print(report)"
   ]
  },
  {
   "cell_type": "markdown",
   "metadata": {},
   "source": [
    "There we go we have built a good model with the accuracy of 99%."
   ]
  }
 ],
 "metadata": {
  "kernelspec": {
   "display_name": "Python 3",
   "language": "python",
   "name": "python3"
  },
  "language_info": {
   "codemirror_mode": {
    "name": "ipython",
    "version": 3
   },
   "file_extension": ".py",
   "mimetype": "text/x-python",
   "name": "python",
   "nbconvert_exporter": "python",
   "pygments_lexer": "ipython3",
   "version": "3.7.3"
  }
 },
 "nbformat": 4,
 "nbformat_minor": 2
}
